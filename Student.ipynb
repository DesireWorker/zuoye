{
 "cells": [
  {
   "cell_type": "code",
   "execution_count": 33,
   "metadata": {},
   "outputs": [],
   "source": [
    "class Student:\n",
    "    def __init__(self,name,xuehao,phone):\n",
    "        self.name = name\n",
    "        self.xuehao = xuehao\n",
    "        self.phone = phone\n",
    "        self.__password='123'\n",
    "        \n",
    "    def say_hello(self):\n",
    "        print(\"你好，我是{n},密码是{p}\".format(n=self.name,p=self.__password))\n",
    "        self.__print_phone()\n",
    "\n",
    "    def __print_phone(self):\n",
    "        print(\"xxx的电话是xxx\")"
   ]
  },
  {
   "cell_type": "code",
   "execution_count": 34,
   "metadata": {},
   "outputs": [],
   "source": [
    "zhangsan = Student(\"zhangsan\", \"01\" ,\"123456\")"
   ]
  },
  {
   "cell_type": "code",
   "execution_count": 35,
   "metadata": {},
   "outputs": [
    {
     "data": {
      "text/plain": [
       "'01'"
      ]
     },
     "execution_count": 35,
     "metadata": {},
     "output_type": "execute_result"
    }
   ],
   "source": [
    "zhangsan.xuehao"
   ]
  },
  {
   "cell_type": "code",
   "execution_count": 36,
   "metadata": {},
   "outputs": [
    {
     "name": "stdout",
     "output_type": "stream",
     "text": [
      "你好，我是zhangsan\n"
     ]
    }
   ],
   "source": [
    "zhangsan.say_hello()"
   ]
  }
 ],
 "metadata": {
  "kernelspec": {
   "display_name": "Python 3",
   "language": "python",
   "name": "python3"
  },
  "language_info": {
   "codemirror_mode": {
    "name": "ipython",
    "version": 3
   },
   "file_extension": ".py",
   "mimetype": "text/x-python",
   "name": "python",
   "nbconvert_exporter": "python",
   "pygments_lexer": "ipython3",
   "version": "3.6.4"
  }
 },
 "nbformat": 4,
 "nbformat_minor": 2
}
