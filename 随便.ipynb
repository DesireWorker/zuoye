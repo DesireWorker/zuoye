{
 "cells": [
  {
   "cell_type": "code",
   "execution_count": 7,
   "metadata": {},
   "outputs": [],
   "source": [
    "import tkinter\n",
    "import tkinter.messagebox"
   ]
  },
  {
   "cell_type": "code",
   "execution_count": null,
   "metadata": {},
   "outputs": [
    {
     "name": "stdout",
     "output_type": "stream",
     "text": [
      "\n"
     ]
    }
   ],
   "source": [
    "def msgbox():\n",
    "    tkinter.messagebox.showinfo(title=\"xuehao\",message=xuehao.get())\n",
    "\n",
    "root=tkinter.Tk()\n",
    "\n",
    "button=tkinter.Button(root,text='点击弹出',command=msgbox)\n",
    "button.place(x=0,y=0,height=30,width=80)\n",
    "\n",
    "xuehao=tkinter.StringVar(root)\n",
    "text = tkinter.Entry(root,width=150,textvariable=xuehao)\n",
    "text.place(x=0,y=30,width=150,height=20)\n",
    "print(xuehao.get())\n",
    "\n",
    "\n",
    "\n",
    "\n",
    "root.mainloop()"
   ]
  },
  {
   "cell_type": "code",
   "execution_count": null,
   "metadata": {},
   "outputs": [],
   "source": []
  }
 ],
 "metadata": {
  "kernelspec": {
   "display_name": "Python 3",
   "language": "python",
   "name": "python3"
  },
  "language_info": {
   "codemirror_mode": {
    "name": "ipython",
    "version": 3
   },
   "file_extension": ".py",
   "mimetype": "text/x-python",
   "name": "python",
   "nbconvert_exporter": "python",
   "pygments_lexer": "ipython3",
   "version": "3.6.4"
  }
 },
 "nbformat": 4,
 "nbformat_minor": 2
}
