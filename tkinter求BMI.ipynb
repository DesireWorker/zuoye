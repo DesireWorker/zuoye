{
 "cells": [
  {
   "cell_type": "code",
   "execution_count": 43,
   "metadata": {},
   "outputs": [],
   "source": [
    "import tkinter\n",
    "import tkinter.messagebox"
   ]
  },
  {
   "cell_type": "code",
   "execution_count": 46,
   "metadata": {},
   "outputs": [],
   "source": [
    "root=tkinter.Tk()\n",
    "\n",
    "a=tkinter.Label(root,text=\"身高\")\n",
    "a.place(x=0,y=0,height=30,width=30)\n",
    "b=tkinter.Label(root,text=\"体重\")\n",
    "b.place(x=0,y=30,height=30,width=30)\n",
    "a1=tkinter.Entry(root)\n",
    "a1.place(x=30,y=0,height=30,width=150)\n",
    "b1=tkinter.Entry(root)\n",
    "b1.place(x=30,y=30,height=30,width=150)\n",
    "\n",
    "def call():\n",
    "    tkinter.messagebox.showinfo(title=\"结果\",message=bmi())\n",
    "\n",
    "def bmi():\n",
    "    height=float(a1.get())\n",
    "    weight=float(b1.get())\n",
    "    BMI=weight/height**2\n",
    "    BMI1=round(BMI, 1)\n",
    "    return BMI1\n",
    "    \n",
    "button=tkinter.Button(root,text=\"计算bmi\",command=call)\n",
    "button.place(x=0,y=130,height=30,width=60)\n",
    "\n",
    "root.mainloop()"
   ]
  },
  {
   "cell_type": "code",
   "execution_count": null,
   "metadata": {},
   "outputs": [],
   "source": []
  }
 ],
 "metadata": {
  "kernelspec": {
   "display_name": "Python 3",
   "language": "python",
   "name": "python3"
  },
  "language_info": {
   "codemirror_mode": {
    "name": "ipython",
    "version": 3
   },
   "file_extension": ".py",
   "mimetype": "text/x-python",
   "name": "python",
   "nbconvert_exporter": "python",
   "pygments_lexer": "ipython3",
   "version": "3.6.4"
  }
 },
 "nbformat": 4,
 "nbformat_minor": 2
}
