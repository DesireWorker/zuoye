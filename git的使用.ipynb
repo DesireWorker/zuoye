{
 "cells": [
  {
   "cell_type": "markdown",
   "metadata": {},
   "source": [
    "### 新建代码仓库（云端github，gitee，etc）\n",
    "* 创建一个仓库\n",
    "* 仓库的URL：\n",
    "\n",
    "### 本地代码上传到新建的云端仓库\n",
    "* 本地的代码仓库（本地文件夹）\n",
    "* 启动Git Bash命令\n",
    "* Linux操作命令：\n",
    "\n",
    "pwd # 显示当前所在的路径\n",
    "\n",
    "cd # change directory，进入指定的路径下\n",
    "\n",
    "* 进入了本地的代码仓库（文件夹）\n",
    "\n",
    "ls -a # ls：list， -a：all。 显示出当前路径下所有的文件及文件夹\n",
    "\n",
    "* 初始化当前文件夹为一个Git代码仓库\n",
    "\n",
    "git init\n",
    "\n",
    "\n",
    "* 添加到本地仓库,登记下想把哪些文件提交到本机仓库去。\n",
    "\n",
    "git add 文件名\n",
    "git add .\n",
    "\n",
    "* 提交\n",
    "\n",
    "git commit -m \"message\"\n",
    "\n",
    "* 计算机初次使用git，会提示配置用户名及登陆邮箱\n",
    "\n",
    "git config --global user.email\n",
    "\n",
    "git config --global user.name\n",
    "\n",
    "### 目前完成了本地仓库的代码提交\n",
    "### 下一步进行远程代码仓库提交\n",
    "* 提交到哪？远程代码仓库的地址要添加到本地仓库的配置中。\n",
    "git remote add origin #origin\" \" 是代码仓库命令名称。\" \"是远程代码仓库的地址。\n",
    "\n",
    "完成了远程代码仓库的配置\n",
    "\n",
    "* 远程代码仓库的提交\n",
    "\n",
    "git push -u origin master # -u origin 指定仓库；master为远程代码分支\n",
    "### 完成了初次从本地到远程的代码提交"
   ]
  },
  {
   "cell_type": "markdown",
   "metadata": {},
   "source": [
    "### 本地修改了文件（代码、文档），代码仓库的更新\n",
    "* 修改文件后\n",
    "\n",
    "git add 修改的文件名\n",
    "\n",
    "git commit -m \"msg\"提交你修改的文件\n",
    "\n",
    "完成了本地的代码仓库的更新"
   ]
  },
  {
   "cell_type": "markdown",
   "metadata": {},
   "source": [
    "### 本地新建文件夹（本地仓库2），从远程仓库更新到本地\n",
    "\n",
    "git pull https://.git\n",
    "\n",
    "### 本地仓库2中添加一个文件，提交到本地仓库2\n",
    "### 更新本地仓库2到远程仓库"
   ]
  },
  {
   "cell_type": "code",
   "execution_count": null,
   "metadata": {},
   "outputs": [],
   "source": []
  }
 ],
 "metadata": {
  "kernelspec": {
   "display_name": "Python 3",
   "language": "python",
   "name": "python3"
  },
  "language_info": {
   "codemirror_mode": {
    "name": "ipython",
    "version": 3
   },
   "file_extension": ".py",
   "mimetype": "text/x-python",
   "name": "python",
   "nbconvert_exporter": "python",
   "pygments_lexer": "ipython3",
   "version": "3.6.4"
  }
 },
 "nbformat": 4,
 "nbformat_minor": 2
}
