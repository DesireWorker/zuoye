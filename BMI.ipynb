{
 "cells": [
  {
   "cell_type": "code",
   "execution_count": null,
   "metadata": {},
   "outputs": [],
   "source": [
    "class bmi:\n",
    "    \n",
    "    def __init__(self,name,age,weight,height):\n",
    "        self.name=name\n",
    "        self.age=age\n",
    "        self.weight=weight\n",
    "        self.height=height\n",
    "    def say_hello1(self):\n",
    "        a=self.height**2\n",
    "        self_bmi=self.weight/a\n",
    "        print(\"{n}的BMI为{m}\".format(n=self.name,m=self_bmi))\n",
    "        if self_bmi < 18.5 : \n",
    "            print (\"偏瘦\")\n",
    "        elif self_bmi < 24 :\n",
    "            print (\"正常\")\n",
    "        elif self_bmi < 30 :\n",
    "            print (\"偏胖\")\n",
    "        elif self_bmi > 30:\n",
    "            print (\"肥胖\")\n",
    "name1=input(\"名字:\")\n",
    "age1=int(input(\"年龄:\"))\n",
    "weight1=float(input(\"体重:\"))\n",
    "height1=float(input(\"身高:\"))\n",
    "ps=bmi(name1,age1,weight1,height1)        \n",
    "ps.say_hello1()"
   ]
  },
  {
   "cell_type": "code",
   "execution_count": 31,
   "metadata": {},
   "outputs": [],
   "source": [
    "class BMI:\n",
    "    \n",
    "    def __init__(self,name,age,weight,height):\n",
    "        self.name=name\n",
    "        self.age=age\n",
    "        self.weight=weight\n",
    "        self.height=height\n",
    "        self.bmi=self.weight/self.height**2\n",
    "    \n",
    "    def get_name(self):\n",
    "        return self.name\n",
    "    \n",
    "    def get_bmi(self):        \n",
    "        return self.bmi\n",
    "    \n",
    "    def get_status(self):\n",
    "        if self.bmi < 18.5:\n",
    "            self.status=\"偏瘦\"\n",
    "        else:\n",
    "            self.status=\"正常\"\n",
    "        return self.status"
   ]
  },
  {
   "cell_type": "code",
   "execution_count": 25,
   "metadata": {},
   "outputs": [],
   "source": [
    "bmi1=BMI(\"zhangsan\",18,60,1.7)#实例化"
   ]
  },
  {
   "cell_type": "code",
   "execution_count": 26,
   "metadata": {},
   "outputs": [
    {
     "name": "stdout",
     "output_type": "stream",
     "text": [
      "zhangsan的BMI是20.761245674740486,身体状态是正常\n"
     ]
    }
   ],
   "source": [
    "print(\"{name}的BMI是{bmi},身体状态是{s}\".format(name=bmi1.get_name(),bmi=bmi1.get_bmi(),s=bmi1.get_status()))"
   ]
  }
 ],
 "metadata": {
  "kernelspec": {
   "display_name": "Python 3",
   "language": "python",
   "name": "python3"
  },
  "language_info": {
   "codemirror_mode": {
    "name": "ipython",
    "version": 3
   },
   "file_extension": ".py",
   "mimetype": "text/x-python",
   "name": "python",
   "nbconvert_exporter": "python",
   "pygments_lexer": "ipython3",
   "version": "3.6.4"
  }
 },
 "nbformat": 4,
 "nbformat_minor": 2
}
